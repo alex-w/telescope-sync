{
 "cells": [
  {
   "cell_type": "code",
   "execution_count": 47,
   "metadata": {},
   "outputs": [],
   "source": [
    "from datetime import datetime, date\n",
    "import math \n",
    "%config IPCompleter.greedy=True"
   ]
  },
  {
   "cell_type": "markdown",
   "metadata": {},
   "source": [
    "## Sideral Time"
   ]
  },
  {
   "cell_type": "markdown",
   "metadata": {},
   "source": [
    "Sideral time is calculated from "
   ]
  },
  {
   "cell_type": "code",
   "execution_count": 48,
   "metadata": {},
   "outputs": [],
   "source": [
    "location = {\"lat\": 48, \"lng\": 11}"
   ]
  },
  {
   "cell_type": "code",
   "execution_count": 49,
   "metadata": {},
   "outputs": [],
   "source": [
    "utcTime = datetime.utcnow()\n",
    "year = utcTime.year\n",
    "month = utcTime.month\n",
    "day = utcTime.day\n",
    "day_fraction = utcTime.hour + utcTime.minute / 60.0 + utcTime.second / 3600.0 / 24.0\n",
    "\n",
    "if month in [1, 2]:\n",
    "    year -= 1;\n",
    "    month += 12;\n",
    "    \n",
    "B = 2 - (year / 100) + ((year / 100) / 4);    \n",
    "\n",
    "julianDate = (int)(365.25 * (year + 4716)) + (int)(30.6001 * (month + 1)) + day + B - 1524.5 + day_fraction"
   ]
  },
  {
   "cell_type": "code",
   "execution_count": 50,
   "metadata": {},
   "outputs": [
    {
     "data": {
      "text/plain": [
       "2459578.3926504627"
      ]
     },
     "execution_count": 50,
     "metadata": {},
     "output_type": "execute_result"
    }
   ],
   "source": [
    "julianDate"
   ]
  },
  {
   "cell_type": "code",
   "execution_count": 51,
   "metadata": {},
   "outputs": [
    {
     "data": {
      "text/plain": [
       "datetime.datetime(2021, 12, 19, 11, 3, 13, 386336)"
      ]
     },
     "execution_count": 51,
     "metadata": {},
     "output_type": "execute_result"
    }
   ],
   "source": [
    "utcTime"
   ]
  },
  {
   "cell_type": "code",
   "execution_count": 52,
   "metadata": {},
   "outputs": [],
   "source": [
    "def days_between(d1, d2):\n",
    "    return abs((d2 - d1).days)\n",
    "\n",
    "L0=99.967794687\n",
    "L1=360.98564736628603\n",
    "L2=2.907879e-13\n",
    "L3=-5.302e-22"
   ]
  },
  {
   "cell_type": "code",
   "execution_count": 53,
   "metadata": {},
   "outputs": [
    {
     "data": {
      "text/plain": [
       "'03:02'"
      ]
     },
     "execution_count": 53,
     "metadata": {},
     "output_type": "execute_result"
    }
   ],
   "source": [
    "longitude=-5\n",
    "hour = 23\n",
    "tz = -1\n",
    "deltaJulianDays = days_between(date(2000,1,1), date(2006,12,1))\n",
    "deltaJulian = float(deltaJulianDays + (hour + tz) / 24)\n",
    "sideralTime = ((L0 + L1 * deltaJulian + L2 * deltaJulian**2 + L3 * deltaJulian**3 - longitude) % 360) / 15\n",
    "datetime(2021,12,19,math.floor(sideralTime),math.floor((sideralTime - math.floor(sideralTime))*60)).strftime(\"%H:%M\")"
   ]
  },
  {
   "cell_type": "code",
   "execution_count": 99,
   "metadata": {},
   "outputs": [
    {
     "data": {
      "text/plain": [
       "8023.416666666667"
      ]
     },
     "execution_count": 99,
     "metadata": {},
     "output_type": "execute_result"
    }
   ],
   "source": [
    "longitude=11\n",
    "hour = datetime.utcnow().hour - 1\n",
    "tz = -1\n",
    "deltaJulianDays = days_between(date(2000,1,1), date.today())\n",
    "deltaJulian = float(deltaJulianDays + (hour + tz) / 24)\n",
    "sideralTime = ((L0 + L1 * deltaJulian + L2 * deltaJulian**2 + L3 * deltaJulian**3 - longitude) % 360) / 15\n",
    "sideralTime\n",
    "deltaJulian"
   ]
  },
  {
   "cell_type": "code",
   "execution_count": 100,
   "metadata": {},
   "outputs": [],
   "source": [
    "def julianDay (year, month, day):\n",
    "    if month in [1, 2]:\n",
    "        year -= 1;\n",
    "        month += 12;\n",
    "        \n",
    "    A = math.floor(year / 100)\n",
    "    B = 2 - A + math.floor(A / 4); \n",
    "    return math.floor(365.25 * (year + 4716)) + math.floor(30.6001 * (month + 1)) + day + B - 1524.5"
   ]
  },
  {
   "cell_type": "code",
   "execution_count": 160,
   "metadata": {},
   "outputs": [
    {
     "name": "stdout",
     "output_type": "stream",
     "text": [
      "UTC 12:32:06 => 19.156856847625022 => J2000 19:09:24.68\n"
     ]
    }
   ],
   "source": [
    "longitude=11\n",
    "year = datetime.utcnow().year\n",
    "month = datetime.utcnow().month\n",
    "day = datetime.utcnow().day\n",
    "hour = datetime.utcnow().hour\n",
    "minute = datetime.utcnow().minute\n",
    "second = datetime.utcnow().second\n",
    "UT = hour + minute / 60 + second / 3600\n",
    "\n",
    "deltaJulianDays = julianDay(year, month, day) - julianDay(2000, 1, 1) - 0.5\n",
    "deltaJulian = deltaJulianDays + hour/24 + minute/60/24 + second/3600/24\n",
    "\n",
    "sideralTime = ((100.46 + 0.985647 * deltaJulian + longitude + 15*UT) % 360) / 15\n",
    "\n",
    "sideralHour = math.floor(sideralTime)\n",
    "sideralMinute = math.floor((sideralTime - sideralHour) * 60)\n",
    "sideralSecond = ((sideralTime - sideralHour) * 60 - sideralMinute) * 60\n",
    "\n",
    "print(f'UTC {hour:02d}:{minute:02d}:{math.floor(second):02d} => {sideralTime} => J2000 {sideralHour:02d}:{sideralMinute:02d}:{sideralSecond:.2f}')"
   ]
  },
  {
   "cell_type": "code",
   "execution_count": 161,
   "metadata": {},
   "outputs": [
    {
     "name": "stdout",
     "output_type": "stream",
     "text": [
      "UTC 12:32:06 => 19.15709523720046 => J2000 19:09:25.54\n"
     ]
    }
   ],
   "source": [
    "longitude=11\n",
    "\n",
    "deltaJulianDays = julianDay(year, month, day) - julianDay(2000, 1, 1) - 0.5\n",
    "deltaJulian = deltaJulianDays + hour/24 + minute/60/24 + second/3600/24\n",
    "\n",
    "t = deltaJulian / 36525.\n",
    "sideralTime = ((280.46061837 + 360.98564736629 * deltaJulian + 0.000388 * t**2 + longitude) % 360) / 15\n",
    "\n",
    "sideralHour = math.floor(sideralTime)\n",
    "sideralMinute = math.floor((sideralTime - sideralHour) * 60)\n",
    "sideralSecond = ((sideralTime - sideralHour) * 60 - sideralMinute) * 60\n",
    "\n",
    "print(f'UTC {hour:02d}:{minute:02d}:{math.floor(second):02d} => {sideralTime} => J2000 {sideralHour:02d}:{sideralMinute:02d}:{sideralSecond:.2f}')"
   ]
  },
  {
   "cell_type": "code",
   "execution_count": null,
   "metadata": {},
   "outputs": [],
   "source": []
  }
 ],
 "metadata": {
  "kernelspec": {
   "display_name": "Python 3.8.2 64-bit",
   "language": "python",
   "name": "python38264bita307c9f5d73a4e6bba0d2b5e435e778a"
  },
  "language_info": {
   "codemirror_mode": {
    "name": "ipython",
    "version": 3
   },
   "file_extension": ".py",
   "mimetype": "text/x-python",
   "name": "python",
   "nbconvert_exporter": "python",
   "pygments_lexer": "ipython3",
   "version": "3.8.10"
  }
 },
 "nbformat": 4,
 "nbformat_minor": 4
}
