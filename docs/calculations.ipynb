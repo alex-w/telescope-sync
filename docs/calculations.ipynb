{
 "cells": [
  {
   "cell_type": "code",
   "execution_count": 2,
   "metadata": {},
   "outputs": [],
   "source": [
    "from datetime import datetime, date\n",
    "import math \n",
    "%config IPCompleter.greedy=True"
   ]
  },
  {
   "cell_type": "markdown",
   "metadata": {},
   "source": [
    "## Sideral Time"
   ]
  },
  {
   "cell_type": "markdown",
   "metadata": {},
   "source": [
    "Sideral time is calculated from "
   ]
  },
  {
   "cell_type": "code",
   "execution_count": 2,
   "metadata": {},
   "outputs": [],
   "source": [
    "location = {\"lat\": 48, \"lng\": 11}"
   ]
  },
  {
   "cell_type": "code",
   "execution_count": 3,
   "metadata": {},
   "outputs": [],
   "source": [
    "def days_between(d1, d2):\n",
    "    return abs((d2 - d1).days)\n",
    "\n",
    "L0=99.967794687\n",
    "L1=360.98564736628603\n",
    "L2=2.907879e-13\n",
    "L3=-5.302e-22"
   ]
  },
  {
   "cell_type": "code",
   "execution_count": 53,
   "metadata": {},
   "outputs": [
    {
     "data": {
      "text/plain": [
       "'03:02'"
      ]
     },
     "execution_count": 53,
     "metadata": {},
     "output_type": "execute_result"
    }
   ],
   "source": [
    "longitude=-5\n",
    "hour = 23\n",
    "tz = -1\n",
    "deltaJulianDays = days_between(date(2000,1,1), date(2006,12,1))\n",
    "deltaJulian = float(deltaJulianDays + (hour + tz) / 24)\n",
    "sideralTime = ((L0 + L1 * deltaJulian + L2 * deltaJulian**2 + L3 * deltaJulian**3 - longitude) % 360) / 15\n",
    "datetime(2021,12,19,math.floor(sideralTime),math.floor((sideralTime - math.floor(sideralTime))*60)).strftime(\"%H:%M\")"
   ]
  },
  {
   "cell_type": "code",
   "execution_count": 99,
   "metadata": {},
   "outputs": [
    {
     "data": {
      "text/plain": [
       "8023.416666666667"
      ]
     },
     "execution_count": 99,
     "metadata": {},
     "output_type": "execute_result"
    }
   ],
   "source": [
    "longitude=11\n",
    "hour = datetime.utcnow().hour - 1\n",
    "tz = -1\n",
    "deltaJulianDays = days_between(date(2000,1,1), date.today())\n",
    "deltaJulian = float(deltaJulianDays + (hour + tz) / 24)\n",
    "sideralTime = ((L0 + L1 * deltaJulian + L2 * deltaJulian**2 + L3 * deltaJulian**3 - longitude) % 360) / 15\n",
    "sideralTime\n",
    "deltaJulian"
   ]
  },
  {
   "cell_type": "code",
   "execution_count": 3,
   "metadata": {},
   "outputs": [],
   "source": [
    "def julianDay (year, month, day):\n",
    "    if month in [1, 2]:\n",
    "        year -= 1;\n",
    "        month += 12;\n",
    "        \n",
    "    A = math.floor(year / 100)\n",
    "    B = 2 - A + math.floor(A / 4); \n",
    "    return math.floor(365.25 * (year + 4716)) + math.floor(30.6001 * (month + 1)) + day + B - 1524.5"
   ]
  },
  {
   "cell_type": "code",
   "execution_count": 5,
   "metadata": {},
   "outputs": [
    {
     "name": "stdout",
     "output_type": "stream",
     "text": [
      "UTC 15:55:57 => 22.69398515785409 => J2000 22:41:38.35\n"
     ]
    }
   ],
   "source": [
    "longitude=10.9836\n",
    "year = datetime.utcnow().year\n",
    "month = datetime.utcnow().month\n",
    "day = datetime.utcnow().day\n",
    "hour = datetime.utcnow().hour\n",
    "minute = datetime.utcnow().minute\n",
    "second = datetime.utcnow().second\n",
    "UT = hour + minute / 60 + second / 3600\n",
    "\n",
    "deltaJulianDays = julianDay(year, month, day) - julianDay(2000, 1, 1) - 0.5\n",
    "deltaJulian = deltaJulianDays + hour/24 + minute/60/24 + second/3600/24\n",
    "\n",
    "sideralTime = ((100.46 + 0.985647 * deltaJulian + longitude + 15*UT) % 360) / 15\n",
    "\n",
    "sideralHour = math.floor(sideralTime)\n",
    "sideralMinute = math.floor((sideralTime - sideralHour) * 60)\n",
    "sideralSecond = ((sideralTime - sideralHour) * 60 - sideralMinute) * 60\n",
    "\n",
    "print(f'UTC {hour:02d}:{minute:02d}:{math.floor(second):02d} => {sideralTime} => J2000 {sideralHour:02d}:{sideralMinute:02d}:{sideralSecond:.2f}')"
   ]
  },
  {
   "cell_type": "code",
   "execution_count": 6,
   "metadata": {},
   "outputs": [
    {
     "name": "stdout",
     "output_type": "stream",
     "text": [
      "UTC 15:55:57 => 22.695316933716338 => J2000 22:41:43.14\n"
     ]
    }
   ],
   "source": [
    "longitude=11\n",
    "\n",
    "deltaJulianDays = julianDay(year, month, day) - julianDay(2000, 1, 1) - 0.5\n",
    "deltaJulian = deltaJulianDays + hour/24 + minute/60/24 + second/3600/24\n",
    "\n",
    "t = deltaJulian / 36525.\n",
    "sideralTime = ((280.46061837 + 360.98564736629 * deltaJulian + 0.000388 * t**2 + longitude) % 360) / 15\n",
    "\n",
    "sideralHour = math.floor(sideralTime)\n",
    "sideralMinute = math.floor((sideralTime - sideralHour) * 60)\n",
    "sideralSecond = ((sideralTime - sideralHour) * 60 - sideralMinute) * 60\n",
    "\n",
    "print(f'UTC {hour:02d}:{minute:02d}:{math.floor(second):02d} => {sideralTime} => J2000 {sideralHour:02d}:{sideralMinute:02d}:{sideralSecond:.2f}')"
   ]
  },
  {
   "cell_type": "code",
   "execution_count": 52,
   "metadata": {},
   "outputs": [],
   "source": [
    "sin = math.sin\n",
    "cos = math.cos\n",
    "\n",
    "def localSideralTime(year, month, day, hour, minute, second, longitude):\n",
    "    deltaJulian = julianDay(year, month, day) - julianDay(2000, 1, 1) - 0.5 + hour/24 + minute/60/24 + second/3600/24\n",
    "    julianCenturies = deltaJulian / 36525.\n",
    "    # returns hours\n",
    "    return ((280.46061837 + 360.98564736629 * deltaJulian + 0.000388 * julianCenturies**2 + longitude) % 360) / 15\n",
    "\n",
    "def printSideralTime(sideralTime):\n",
    "    sideralHour = math.floor(sideralTime)\n",
    "    sideralMinute = math.floor((sideralTime - sideralHour) * 60)\n",
    "    sideralSecond = math.floor(((sideralTime - sideralHour) * 60 - sideralMinute) * 60)\n",
    "    print(f'Sideral Time (J2000) {sideralHour:02d}:{sideralMinute:02d}:{sideralSecond:02d}')\n",
    "    \n",
    "def rad(deg):\n",
    "    return deg * math.pi / 180.\n",
    "\n",
    "def deg(rad):\n",
    "    return rad * 180 / math.pi\n",
    "\n",
    "def horizontalToEqatorial(azimuth, altitude, latitude, localSideralTime):\n",
    "    az = rad(azimuth)\n",
    "    alt = rad(altitude)\n",
    "    lat = rad(latitude)\n",
    "    \n",
    "    dec = math.asin( sin(lat) * sin(alt) + cos(lat) * cos(alt) * cos(az) )\n",
    "    ra = localSideralTime - math.acos( (sin(alt) - sin(lat) * sin(dec)) / (cos(lat) * cos(dec)) ) * 180 / math.pi\n",
    "    # returns all values in degrees\n",
    "    return (ra, dec * 180 / math.pi)\n",
    "\n",
    "\"\"\"\n",
    "http://www.stargazing.net/kepler/altaz.html\n",
    "\"\"\"\n",
    "def equatorialToHorizontal(ra, declination, latitude, localSideralTime):\n",
    "    hourAngle = localSideralTime - ra\n",
    "    hourAngle = rad(hourAngle) if hourAngle >= 0  else hourAngle + 360\n",
    "    dec = rad(declination)\n",
    "    lat = rad(latitude)\n",
    "    \n",
    "    altitude = math.asin( sin(dec)*sin(lat) + cos(dec)*cos(lat)*cos(hourAngle) )\n",
    "\n",
    "    A = math.acos( (sin(dec) - sin(altitude)*sin(lat))/(cos(altitude)*cos(lat)) ) \n",
    "    azimuth = A if sin(hourAngle) < 0  else 2*math.pi - A\n",
    "    \n",
    "    # returns all values in degrees\n",
    "    return(deg(azimuth), deg(altitude))"
   ]
  },
  {
   "cell_type": "markdown",
   "metadata": {},
   "source": [
    "# Sample Calculation from Alt/Az to Ra/Dec"
   ]
  },
  {
   "cell_type": "code",
   "execution_count": 39,
   "metadata": {},
   "outputs": [],
   "source": [
    "# Aldebaran\n",
    "Alt = 58.2746 # °\n",
    "Az = 177.0994 # °\n",
    "year = 2021\n",
    "month = 12\n",
    "day = 20\n",
    "hour = 21\n",
    "minute = 48\n",
    "second = 6\n",
    "longitude = 11 # °, East\n",
    "latitude = 48"
   ]
  },
  {
   "cell_type": "markdown",
   "metadata": {},
   "source": [
    "Expected Values: Ra = 4h35m56.70s = 68.98623° Dec = +16°30'31.3\" = 16.5087°"
   ]
  },
  {
   "cell_type": "code",
   "execution_count": 40,
   "metadata": {},
   "outputs": [
    {
     "name": "stdout",
     "output_type": "stream",
     "text": [
      "Sideral Time (J2000) 04:30:53\n"
     ]
    },
    {
     "data": {
      "text/plain": [
       "67.72264533070847"
      ]
     },
     "execution_count": 40,
     "metadata": {},
     "output_type": "execute_result"
    }
   ],
   "source": [
    "sideralTimeHours = localSideralTime(year, month, day, hour, minute, second, longitude)\n",
    "printSideralTime(sideralTimeHours)\n",
    "sideralTimeDegrees = sideralTimeHours * 360 / 24\n",
    "sideralTimeDegrees"
   ]
  },
  {
   "cell_type": "code",
   "execution_count": 20,
   "metadata": {},
   "outputs": [
    {
     "data": {
      "text/plain": [
       "297.93"
      ]
     },
     "execution_count": 20,
     "metadata": {},
     "output_type": "execute_result"
    }
   ],
   "source": [
    "Alt = 60.34\n",
    "Az = 180\n",
    "ST = 297.93\n",
    "declination = 8.93\n",
    "latitude = 38.59\n",
    "\n",
    "ST - math.acos((sin(rad(Alt)) - sin(rad(latitude)) * sin(rad(declination)) ) / ( cos(rad(latitude)) * cos(rad(declination)) )) * 180 / math.pi"
   ]
  },
  {
   "cell_type": "code",
   "execution_count": 34,
   "metadata": {},
   "outputs": [
    {
     "data": {
      "text/plain": [
       "(297.93, 8.930000000000005)"
      ]
     },
     "execution_count": 34,
     "metadata": {},
     "output_type": "execute_result"
    }
   ],
   "source": [
    "# Testcase #1: expected result (RA=297.92, DEC=8.93) from http://jonvoisey.net/blog/2018/07/data-converting-alt-az-to-ra-dec-example/\n",
    "horizontalToEqatorial(azimuth=180, altitude=60.34, latitude=38.59, localSideralTime=297.93)"
   ]
  },
  {
   "cell_type": "code",
   "execution_count": 35,
   "metadata": {},
   "outputs": [
    {
     "data": {
      "text/plain": [
       "(250.42499131476123, 36.46666948532732)"
      ]
     },
     "execution_count": 35,
     "metadata": {},
     "output_type": "execute_result"
    }
   ],
   "source": [
    "# Testcase #2: expected result (RA=250.425, DEC=36.4667) from http://www.stargazing.net/kepler/altaz.html\n",
    "horizontalToEqatorial(azimuth=269.14634, altitude=49.169122, latitude=52.5, localSideralTime=304.80762)"
   ]
  },
  {
   "cell_type": "code",
   "execution_count": 42,
   "metadata": {},
   "outputs": [
    {
     "data": {
      "text/plain": [
       "(269.1463683430765, 49.16914722923827)"
      ]
     },
     "execution_count": 42,
     "metadata": {},
     "output_type": "execute_result"
    }
   ],
   "source": [
    "# Testcase #3: expected result: (AZ=269.14634, ALT=49.169122)\n",
    "equatorialToHorizontal(ra=250.425, declination=36.4667,  latitude=52.5, localSideralTime=304.80762)"
   ]
  },
  {
   "cell_type": "code",
   "execution_count": 87,
   "metadata": {},
   "outputs": [
    {
     "data": {
      "text/plain": [
       "304.80804211986833"
      ]
     },
     "execution_count": 87,
     "metadata": {},
     "output_type": "execute_result"
    }
   ],
   "source": [
    "# Test case: expected result: 304.80762°\n",
    "res = localSideralTime(1998, 8, 10, 23, 10, 0, -1.9166667) * 360 / 24\n",
    "assert(math.isclose(res, 304.80762, rel_tol=0.0001))\n",
    "res"
   ]
  },
  {
   "cell_type": "code",
   "execution_count": 88,
   "metadata": {},
   "outputs": [
    {
     "data": {
      "text/plain": [
       "174.7711146667134"
      ]
     },
     "execution_count": 88,
     "metadata": {},
     "output_type": "execute_result"
    }
   ],
   "source": [
    "# Test case: expected result: 174.77457°\n",
    "res = localSideralTime(1994, 6, 16, 18, 0, 0, 0) * 360 / 24\n",
    "assert(math.isclose(res, 174.77457, rel_tol=0.0001))\n",
    "res"
   ]
  },
  {
   "cell_type": "code",
   "execution_count": 41,
   "metadata": {},
   "outputs": [
    {
     "data": {
      "text/plain": [
       "(233.33110986873436, 47.94805962010394)"
      ]
     },
     "execution_count": 41,
     "metadata": {},
     "output_type": "execute_result"
    }
   ],
   "source": [
    "equatorialToHorizontal(ra=68.98623, declination=16.5087,  latitude=48, localSideralTime=67.7226)"
   ]
  },
  {
   "cell_type": "code",
   "execution_count": null,
   "metadata": {},
   "outputs": [],
   "source": []
  }
 ],
 "metadata": {
  "kernelspec": {
   "display_name": "Python 3.8.2 64-bit",
   "language": "python",
   "name": "python38264bita307c9f5d73a4e6bba0d2b5e435e778a"
  },
  "language_info": {
   "codemirror_mode": {
    "name": "ipython",
    "version": 3
   },
   "file_extension": ".py",
   "mimetype": "text/x-python",
   "name": "python",
   "nbconvert_exporter": "python",
   "pygments_lexer": "ipython3",
   "version": "3.8.10"
  }
 },
 "nbformat": 4,
 "nbformat_minor": 4
}
