{
 "cells": [
  {
   "cell_type": "code",
   "execution_count": 129,
   "metadata": {},
   "outputs": [],
   "source": [
    "from datetime import datetime, date\n",
    "import math \n",
    "\n",
    "from IPython.display import Markdown as md\n",
    "import numpy as np\n",
    "from matplotlib import pyplot as plt\n",
    "from scipy.optimize import curve_fit\n",
    "\n",
    "from astropy import units as u\n",
    "from astropy.coordinates import (SkyCoord, EarthLocation, AltAz, HADec)\n",
    "import astropy.coordinates as coord\n",
    "from astropy.time import Time\n",
    "\n",
    "plt.rcParams['figure.figsize'] = [16,8]\n",
    "\n",
    "%config IPCompleter.greedy=True"
   ]
  },
  {
   "cell_type": "markdown",
   "metadata": {},
   "source": [
    "## Sideral Time"
   ]
  },
  {
   "cell_type": "code",
   "execution_count": 6,
   "metadata": {},
   "outputs": [
    {
     "ename": "NameError",
     "evalue": "name 'julianDay' is not defined",
     "output_type": "error",
     "traceback": [
      "\u001b[0;31m---------------------------------------------------------------------------\u001b[0m",
      "\u001b[0;31mNameError\u001b[0m                                 Traceback (most recent call last)",
      "\u001b[0;32m<ipython-input-6-459abddeaa3a>\u001b[0m in \u001b[0;36m<module>\u001b[0;34m\u001b[0m\n\u001b[1;32m      8\u001b[0m \u001b[0mUT\u001b[0m \u001b[0;34m=\u001b[0m \u001b[0mhour\u001b[0m \u001b[0;34m+\u001b[0m \u001b[0mminute\u001b[0m \u001b[0;34m/\u001b[0m \u001b[0;36m60\u001b[0m \u001b[0;34m+\u001b[0m \u001b[0msecond\u001b[0m \u001b[0;34m/\u001b[0m \u001b[0;36m3600\u001b[0m\u001b[0;34m\u001b[0m\u001b[0;34m\u001b[0m\u001b[0m\n\u001b[1;32m      9\u001b[0m \u001b[0;34m\u001b[0m\u001b[0m\n\u001b[0;32m---> 10\u001b[0;31m \u001b[0mdeltaJulianDays\u001b[0m \u001b[0;34m=\u001b[0m \u001b[0mjulianDay\u001b[0m\u001b[0;34m(\u001b[0m\u001b[0myear\u001b[0m\u001b[0;34m,\u001b[0m \u001b[0mmonth\u001b[0m\u001b[0;34m,\u001b[0m \u001b[0mday\u001b[0m\u001b[0;34m)\u001b[0m \u001b[0;34m-\u001b[0m \u001b[0mjulianDay\u001b[0m\u001b[0;34m(\u001b[0m\u001b[0;36m2000\u001b[0m\u001b[0;34m,\u001b[0m \u001b[0;36m1\u001b[0m\u001b[0;34m,\u001b[0m \u001b[0;36m1\u001b[0m\u001b[0;34m)\u001b[0m \u001b[0;34m-\u001b[0m \u001b[0;36m0.5\u001b[0m\u001b[0;34m\u001b[0m\u001b[0;34m\u001b[0m\u001b[0m\n\u001b[0m\u001b[1;32m     11\u001b[0m \u001b[0mdeltaJulian\u001b[0m \u001b[0;34m=\u001b[0m \u001b[0mdeltaJulianDays\u001b[0m \u001b[0;34m+\u001b[0m \u001b[0mhour\u001b[0m\u001b[0;34m/\u001b[0m\u001b[0;36m24\u001b[0m \u001b[0;34m+\u001b[0m \u001b[0mminute\u001b[0m\u001b[0;34m/\u001b[0m\u001b[0;36m60\u001b[0m\u001b[0;34m/\u001b[0m\u001b[0;36m24\u001b[0m \u001b[0;34m+\u001b[0m \u001b[0msecond\u001b[0m\u001b[0;34m/\u001b[0m\u001b[0;36m3600\u001b[0m\u001b[0;34m/\u001b[0m\u001b[0;36m24\u001b[0m\u001b[0;34m\u001b[0m\u001b[0;34m\u001b[0m\u001b[0m\n\u001b[1;32m     12\u001b[0m \u001b[0;34m\u001b[0m\u001b[0m\n",
      "\u001b[0;31mNameError\u001b[0m: name 'julianDay' is not defined"
     ]
    }
   ],
   "source": [
    "longitude=10.9836\n",
    "year = datetime.utcnow().year\n",
    "month = datetime.utcnow().month\n",
    "day = datetime.utcnow().day\n",
    "hour = datetime.utcnow().hour\n",
    "minute = datetime.utcnow().minute\n",
    "second = datetime.utcnow().second\n",
    "UT = hour + minute / 60 + second / 3600\n",
    "\n",
    "deltaJulianDays = julianDay(year, month, day) - julianDay(2000, 1, 1) - 0.5\n",
    "deltaJulian = deltaJulianDays + hour/24 + minute/60/24 + second/3600/24\n",
    "\n",
    "sideralTime = ((100.46 + 0.985647 * deltaJulian + longitude + 15*UT) % 360) / 15\n",
    "\n",
    "sideralHour = math.floor(sideralTime)\n",
    "sideralMinute = math.floor((sideralTime - sideralHour) * 60)\n",
    "sideralSecond = ((sideralTime - sideralHour) * 60 - sideralMinute) * 60\n",
    "\n",
    "print(f'UTC {hour:02d}:{minute:02d}:{math.floor(second):02d} => {sideralTime} => J2000 {sideralHour:02d}:{sideralMinute:02d}:{sideralSecond:.2f}')"
   ]
  },
  {
   "cell_type": "code",
   "execution_count": 112,
   "metadata": {},
   "outputs": [],
   "source": [
    "sin = math.sin\n",
    "cos = math.cos\n",
    "\n",
    "\"\"\"Calculates the Julian Day from a given gregorian date\"\"\"\n",
    "def julianDay (year, month, day):\n",
    "    if month in [1, 2]:\n",
    "        year -= 1;\n",
    "        month += 12;\n",
    "        \n",
    "    A = math.floor(year / 100)\n",
    "    B = 2 - A + math.floor(A / 4);\n",
    "    return math.floor(365.25 * (year + 4716)) + math.floor(30.6001 * (month + 1)) + day + B - 1524.5\n",
    "\n",
    "\n",
    "# http://www2.arnes.si/~gljsentvid10/sidereal.htm\n",
    "def localSiderealTime(year, month, day, hour, minute, second, longitude):\n",
    "    deltaJulian = julianDay(year, month, day) - julianDay(2000, 1, 1) - 0.5 + hour/24 + minute/60/24 + second/3600/24\n",
    "    julianCenturies = deltaJulian / 36525.\n",
    "    # returns hours\n",
    "    return ((280.46061837 + 360.98564736629 * deltaJulian + 0.000388 * julianCenturies**2 + longitude) % 360) / 15\n",
    "\n",
    "def printSiderealTime(siderealTime):\n",
    "    siderealHour = math.floor(siderealTime)\n",
    "    siderealMinute = math.floor((siderealTime - siderealHour) * 60)\n",
    "    siderealSecond = math.floor(((siderealTime - siderealHour) * 60 - siderealMinute) * 60)\n",
    "    print(f'Sidereal Time (J2000) {siderealHour:02d}:{siderealMinute:02d}:{siderealSecond:02d}')\n",
    "    \n",
    "def rad(deg):\n",
    "    return deg * math.pi / 180.\n",
    "\n",
    "def deg(rad):\n",
    "    return rad * 180. / math.pi\n",
    "\n",
    "# http://jonvoisey.net/blog/2018/07/data-converting-alt-az-to-ra-dec-example/\n",
    "def horizontalToEqatorial(azimuth, altitude, latitude, localSiderealTimeDegrees):\n",
    "    az = rad(azimuth)\n",
    "    alt = rad(altitude)\n",
    "    lat = rad(latitude)\n",
    "    \n",
    "    dec = math.asin( sin(lat) * sin(alt) + cos(lat) * cos(alt) * cos(az) )\n",
    "    ra = localSiderealTimeDegrees - math.acos( (sin(alt) - sin(lat) * sin(dec)) / (cos(lat) * cos(dec)) ) * 180 / math.pi\n",
    "    # returns all values in degrees\n",
    "    return (ra, deg(dec))\n",
    "\n",
    "# http://www.stargazing.net/kepler/altaz.html\n",
    "def equatorialToHorizontal(ra, declination, latitude, localSiderealTimeDegrees):\n",
    "    hourAngle = localSiderealTimeDegrees - ra\n",
    "    hourAngle = rad(hourAngle) if hourAngle >= 0  else rad(hourAngle + 360)\n",
    "    dec = rad(declination)\n",
    "    lat = rad(latitude)\n",
    "    \n",
    "    altitude = math.asin( sin(dec)*sin(lat) + cos(dec)*cos(lat)*cos(hourAngle) )\n",
    "\n",
    "    A = math.acos( (sin(dec) - sin(altitude)*sin(lat))/(cos(altitude)*cos(lat)) ) \n",
    "    azimuth = A if sin(hourAngle) < 0  else 2 * math.pi - A\n",
    "    \n",
    "    # returns all values in degrees\n",
    "    return(deg(azimuth), deg(altitude))\n",
    "\n",
    "\"\"\" derived from iauHd2ae from www.iausofa.org \"\"\"\n",
    "def Hd2ae(ra, declination, latitude, localSiderealTimeDegrees):\n",
    "\n",
    "    hourAngle = localSiderealTimeDegrees - ra\n",
    "    ha = rad(hourAngle) if hourAngle >= 0  else rad(hourAngle + 360)\n",
    "    \n",
    "    dec = rad(declination)\n",
    "    phi = rad(latitude)\n",
    "    \n",
    "    sh = sin(ha)\n",
    "    ch = cos(ha)\n",
    "    sd = sin(dec)\n",
    "    cd = cos(dec)\n",
    "    sp = sin(phi)\n",
    "    cp = cos(phi)\n",
    "\n",
    "    x = - ch*cd*sp + sd*cp;\n",
    "    y = - sh*cd;\n",
    "    z = ch*cd*cp + sd*sp;\n",
    "\n",
    "    r = math.sqrt(x*x + y*y);\n",
    "    \n",
    "    a = math.atan2(y,x) if r != 0 else 0 # (r != 0.0) ? atan2(y,x) : 0.0;\n",
    "    az = a + 2*math.pi if a < 0 else a # (a < 0.0) ? a+D2PI : a;\n",
    "    el = math.atan2(z,r);\n",
    "    return(deg(az), deg(el))\n",
    "\n",
    "\"\"\" derived from iauAe2hd from www.iausofa.org \"\"\"\n",
    "def Ae2hd(azimuth, altitude, latitude, localSiderealTimeDegrees):\n",
    "    az = rad(azimuth)\n",
    "    el = rad(altitude)\n",
    "    phi = rad(latitude)    \n",
    "    \n",
    "    sa = sin(az);\n",
    "    ca = cos(az);\n",
    "    se = sin(el);\n",
    "    ce = cos(el);\n",
    "    sp = sin(phi);\n",
    "    cp = cos(phi);\n",
    "\n",
    "    x = - ca*ce*sp + se*cp;\n",
    "    y = - sa*ce;\n",
    "    z = ca*ce*cp + se*sp;\n",
    "\n",
    "    r = math.sqrt(x*x + y*y);\n",
    "    ha = math.atan2(y,x) if r != 0 else 0 #(r != 0.0) ? atan2(y,x) : 0.0;\n",
    "    dec = math.atan2(z,r);    \n",
    "    ra = localSiderealTimeDegrees - deg(ha)\n",
    "    return(ra, deg(dec))"
   ]
  },
  {
   "cell_type": "markdown",
   "metadata": {},
   "source": [
    "# Sample Calculations and Testcases"
   ]
  },
  {
   "cell_type": "markdown",
   "metadata": {},
   "source": [
    "## Julian Day"
   ]
  },
  {
   "cell_type": "code",
   "execution_count": 19,
   "metadata": {},
   "outputs": [],
   "source": [
    "res = julianDay(2000, 1, 1) # 00:00 UTC\n",
    "assert(math.isclose(res, 2451544.5, abs_tol=0.01))"
   ]
  },
  {
   "cell_type": "code",
   "execution_count": 20,
   "metadata": {},
   "outputs": [],
   "source": [
    "res = julianDay(2021, 12, 23) # 00:00 UTC\n",
    "assert(math.isclose(res, 2459571.5, abs_tol=0.01))"
   ]
  },
  {
   "cell_type": "code",
   "execution_count": 21,
   "metadata": {},
   "outputs": [],
   "source": [
    "res = julianDay(2025, 7, 13) # 00:00 UTC\n",
    "assert(math.isclose(res, 2460869.5, abs_tol=0.01))"
   ]
  },
  {
   "cell_type": "markdown",
   "metadata": {},
   "source": [
    "## Sidereal Time"
   ]
  },
  {
   "cell_type": "code",
   "execution_count": 22,
   "metadata": {},
   "outputs": [],
   "source": [
    "# Test case: expected result: 304.80762° from http://www.stargazing.net/kepler/altaz.html\n",
    "res = localSiderealTime(1998, 8, 10, 23, 10, 0, -1.9166667) * 360 / 24 # convert to degrees\n",
    "assert(math.isclose(res, 304.80762, rel_tol=0.0001))"
   ]
  },
  {
   "cell_type": "code",
   "execution_count": 23,
   "metadata": {},
   "outputs": [],
   "source": [
    "# Test case: expected result: 174.77457° from http://www2.arnes.si/~gljsentvid10/sidereal.htm\n",
    "res = localSiderealTime(1994, 6, 16, 18, 0, 0, 0) * 360 / 24 # convert to degrees\n",
    "assert(math.isclose(res, 174.77457, rel_tol=0.0001))"
   ]
  },
  {
   "cell_type": "code",
   "execution_count": 24,
   "metadata": {},
   "outputs": [],
   "source": [
    "# Test case: expected result: LST=06:39:00\n",
    "res = localSiderealTime(2021, 12, 23, 8, 30, 34, -120) * 360 / 24 # convert to degrees\n",
    "assert(math.isclose(res, 99.75, rel_tol=0.0001))"
   ]
  },
  {
   "cell_type": "code",
   "execution_count": 25,
   "metadata": {},
   "outputs": [],
   "source": [
    "# Test case: expected result: LST=02:22:54\n",
    "res = localSiderealTime(2025, 7, 13, 6, 13, 22, 11) * 360 / 24 # convert to degrees\n",
    "assert(math.isclose(res, 35.7267, rel_tol=0.0001))"
   ]
  },
  {
   "cell_type": "markdown",
   "metadata": {},
   "source": [
    "## Coordinate Transform"
   ]
  },
  {
   "cell_type": "code",
   "execution_count": 104,
   "metadata": {},
   "outputs": [],
   "source": [
    "# Testcase #1: expected result (RA=297.92, DEC=8.93) from http://jonvoisey.net/blog/2018/07/data-converting-alt-az-to-ra-dec-example/\n",
    "res = horizontalToEqatorial(azimuth=180, altitude=60.34, latitude=38.59, localSiderealTimeDegrees=297.93)\n",
    "assert(math.isclose(res[0], 297.92, rel_tol=0.0001))\n",
    "assert(math.isclose(res[1], 8.93, rel_tol=0.0001))"
   ]
  },
  {
   "cell_type": "code",
   "execution_count": 139,
   "metadata": {},
   "outputs": [],
   "source": [
    "# Testcase #2: expected result (RA=250.425, DEC=36.4667) from http://www.stargazing.net/kepler/altaz.html\n",
    "res = horizontalToEqatorial(azimuth=269.14634, altitude=49.169122, latitude=52.5, localSiderealTimeDegrees=304.80762)\n",
    "assert(math.isclose(res[0], 250.425, rel_tol=0.0001))\n",
    "assert(math.isclose(res[1], 36.4667, rel_tol=0.0001))"
   ]
  },
  {
   "cell_type": "code",
   "execution_count": 106,
   "metadata": {},
   "outputs": [],
   "source": [
    "# Testcase #3: expected result: (AZ=269.14634, ALT=49.169122)\n",
    "res = equatorialToHorizontal(ra=250.425, declination=36.467,  latitude=52.5, localSiderealTimeDegrees=304.808)\n",
    "assert(math.isclose(res[0], 269.14634, rel_tol=0.0001))\n",
    "assert(math.isclose(res[1], 49.169122, rel_tol=0.0001))"
   ]
  },
  {
   "cell_type": "code",
   "execution_count": 147,
   "metadata": {},
   "outputs": [
    {
     "data": {
      "text/plain": [
       "(111.07414362251865, 27.439753234662817)"
      ]
     },
     "execution_count": 147,
     "metadata": {},
     "output_type": "execute_result"
    }
   ],
   "source": [
    "# Testcase #4: Betelgeuse (RA=05h55m10.30536s = 5.91953h = 88.7929°, DEC = +07°24′25.4304″ = 7.4071°)\n",
    "res = equatorialToHorizontal(ra=88.7929, declination=7.4071,  latitude=48, localSiderealTimeDegrees=localSiderealTime(2021, 12, 23, 19, 14, 28, 11) * 360 / 24)\n",
    "res\n",
    "#assert(math.isclose(res[0], 269.14634, rel_tol=0.0001))\n",
    "#assert(math.isclose(res[1], 49.169122, rel_tol=0.0001))"
   ]
  },
  {
   "cell_type": "code",
   "execution_count": 166,
   "metadata": {},
   "outputs": [
    {
     "data": {
      "text/plain": [
       "(-24.743099632171237, 7.435333730727449)"
      ]
     },
     "execution_count": 166,
     "metadata": {},
     "output_type": "execute_result"
    }
   ],
   "source": [
    "res = horizontalToEqatorial(azimuth=110.8093, altitude=27.2852, latitude=48, localSiderealTimeDegrees=localSiderealTime(2021, 12, 23, 19, 14, 28, 11) * 360 / 24)\n",
    "(res[0], res[1])\n",
    "#assert(math.isclose(res[0], 250.425, rel_tol=0.0001))\n",
    "#assert(math.isclose(res[1], 36.4667, rel_tol=0.0001))"
   ]
  },
  {
   "cell_type": "code",
   "execution_count": 182,
   "metadata": {},
   "outputs": [
    {
     "data": {
      "text/plain": [
       "(89.0752907818754, 7.435333730727449)"
      ]
     },
     "execution_count": 182,
     "metadata": {},
     "output_type": "execute_result"
    }
   ],
   "source": [
    "Ae2hd(azimuth=110.8093, altitude=27.2852, latitude=48, localSiderealTimeDegrees=localSiderealTime(2021, 12, 23, 19, 14, 28, 11) * 360 / 24)"
   ]
  },
  {
   "cell_type": "code",
   "execution_count": 158,
   "metadata": {},
   "outputs": [
    {
     "data": {
      "text/plain": [
       "89.07534557485207"
      ]
     },
     "execution_count": 158,
     "metadata": {},
     "output_type": "execute_result"
    }
   ],
   "source": [
    "localSiderealTime(2021, 12, 23, 19, 14, 28, 11) * 360 / 24 - 20.20605*360/24 + 360"
   ]
  },
  {
   "cell_type": "code",
   "execution_count": 184,
   "metadata": {},
   "outputs": [
    {
     "data": {
      "text/plain": [
       "5.944406371656807"
      ]
     },
     "execution_count": 184,
     "metadata": {},
     "output_type": "execute_result"
    }
   ],
   "source": [
    "(localSiderealTime(2021, 12, 23, 19, 14, 28, 11) - 20.2)%24"
   ]
  },
  {
   "cell_type": "code",
   "execution_count": 185,
   "metadata": {},
   "outputs": [
    {
     "data": {
      "text/plain": [
       "5.938346666666666"
      ]
     },
     "execution_count": 185,
     "metadata": {},
     "output_type": "execute_result"
    }
   ],
   "source": [
    "(89.0752) / 360 * 24"
   ]
  },
  {
   "cell_type": "code",
   "execution_count": 186,
   "metadata": {},
   "outputs": [
    {
     "data": {
      "text/plain": [
       "2.1444063716568054"
      ]
     },
     "execution_count": 186,
     "metadata": {},
     "output_type": "execute_result"
    }
   ],
   "source": [
    "localSiderealTime(2021, 12, 23, 19, 14, 28, 11)"
   ]
  },
  {
   "cell_type": "markdown",
   "metadata": {},
   "source": [
    "# Astropy Comparison"
   ]
  },
  {
   "cell_type": "code",
   "execution_count": 153,
   "metadata": {},
   "outputs": [
    {
     "data": {
      "text/plain": [
       "(-0.2655569125269608, -0.1871129975093453)"
      ]
     },
     "execution_count": 153,
     "metadata": {},
     "output_type": "execute_result"
    }
   ],
   "source": [
    "observing_location = EarthLocation.from_geodetic(lon=11*u.deg, lat=48*u.deg)\n",
    "observing_date = Time('2021-12-23 19:14:28')\n",
    "altaz = AltAz(location=observing_location, obstime=observing_date)\n",
    "betelgeuse = SkyCoord(ra=88.7929 * u.deg, dec=7.4071 * u.deg)\n",
    "\n",
    "astropy = (betelgeuse.transform_to(altaz).az.deg, betelgeuse.transform_to(altaz).alt.deg)\n",
    "simple = equatorialToHorizontal(ra=88.7929, declination=7.4071,  latitude=48, localSiderealTimeDegrees=localSiderealTime(2021, 12, 23, 19, 14, 28, 11) * 360 / 24)\n",
    "tuple(map(lambda i, j: i - j, astropy, simple))"
   ]
  },
  {
   "cell_type": "code",
   "execution_count": 146,
   "metadata": {},
   "outputs": [
    {
     "data": {
      "text/plain": [
       "(0.01763446595714413, 9.608107974656832e-05)"
      ]
     },
     "execution_count": 146,
     "metadata": {},
     "output_type": "execute_result"
    }
   ],
   "source": [
    "observing_location = EarthLocation.from_geodetic(lon=-1.9166667*u.deg, lat=52.5*u.deg)\n",
    "observing_date = Time('1998-08-10 23:10:00')\n",
    "hadec = HADec(location=observing_location, obstime=observing_date)\n",
    "altaz = AltAz(location=observing_location, obstime=observing_date)\n",
    "m13 = SkyCoord(ra=16.695/24*360*u.deg, dec=36.466667*u.deg)\n",
    "\n",
    "astropy = (m13.transform_to(altaz).az.deg, m13.transform_to(altaz).alt.deg)\n",
    "simple = equatorialToHorizontal(ra=250.425, declination=36.467,  latitude=52.5, localSiderealTimeDegrees=304.808)\n",
    "tuple(map(lambda i, j: i - j, astropy, simple))"
   ]
  },
  {
   "cell_type": "markdown",
   "metadata": {},
   "source": [
    "## SOFA Library Comparison"
   ]
  },
  {
   "cell_type": "code",
   "execution_count": 121,
   "metadata": {},
   "outputs": [
    {
     "data": {
      "text/plain": [
       "(0.0, -7.105427357601002e-15)"
      ]
     },
     "execution_count": 121,
     "metadata": {},
     "output_type": "execute_result"
    }
   ],
   "source": [
    "iau = Ae2hd(azimuth=269.14634, altitude=49.169122, latitude=52.5, localSiderealTimeDegrees=304.80762)\n",
    "simple = horizontalToEqatorial(azimuth=269.14634, altitude=49.169122, latitude=52.5, localSiderealTimeDegrees=304.80762)\n",
    "tuple(map(lambda i, j: i - j, iau, simple))"
   ]
  },
  {
   "cell_type": "code",
   "execution_count": 122,
   "metadata": {},
   "outputs": [
    {
     "data": {
      "text/plain": [
       "(5.684341886080802e-14, -7.105427357601002e-15)"
      ]
     },
     "execution_count": 122,
     "metadata": {},
     "output_type": "execute_result"
    }
   ],
   "source": [
    "iau = Hd2ae(ra=250.425, declination=36.467,  latitude=52.5, localSiderealTimeDegrees=304.808)\n",
    "simple = equatorialToHorizontal(ra=250.425, declination=36.467,  latitude=52.5, localSiderealTimeDegrees=304.808)\n",
    "tuple(map(lambda i, j: i - j, iau, simple))"
   ]
  },
  {
   "cell_type": "code",
   "execution_count": null,
   "metadata": {},
   "outputs": [],
   "source": []
  }
 ],
 "metadata": {
  "kernelspec": {
   "display_name": "Python 3.8.2 64-bit",
   "language": "python",
   "name": "python38264bita307c9f5d73a4e6bba0d2b5e435e778a"
  },
  "language_info": {
   "codemirror_mode": {
    "name": "ipython",
    "version": 3
   },
   "file_extension": ".py",
   "mimetype": "text/x-python",
   "name": "python",
   "nbconvert_exporter": "python",
   "pygments_lexer": "ipython3",
   "version": "3.8.10"
  }
 },
 "nbformat": 4,
 "nbformat_minor": 4
}
