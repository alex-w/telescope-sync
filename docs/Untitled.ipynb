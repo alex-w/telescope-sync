{
 "cells": [
  {
   "cell_type": "code",
   "execution_count": 1,
   "metadata": {},
   "outputs": [],
   "source": [
    "import numpy as np\n",
    "from matplotlib import pyplot as plt"
   ]
  },
  {
   "cell_type": "code",
   "execution_count": 84,
   "metadata": {},
   "outputs": [
    {
     "data": {
      "image/png": "[encoded data removed]",
      "text/plain": [
       "<Figure size 576x576 with 1 Axes>"
      ]
     },
     "metadata": {
      "needs_background": "light"
     },
     "output_type": "display_data"
    }
   ],
   "source": [
    "fig, axs = plt.subplots(1, 1, figsize=(8, 8))\n",
    "\n",
    "A = np.array([[3000,0], [0,0], [0, 50000]])\n",
    "A = np.append(A, np.ones((np.shape(A)[0],1)), axis=1)\n",
    "\n",
    "theta = 0.0191;\n",
    "theta_rad = theta * np.pi / 180; # deg\n",
    "\n",
    "M1=np.array([[np.cos(theta_rad), -np.sin(theta_rad), 0], [np.sin(theta_rad), np.cos(theta_rad), 0], [0, 0, 1]])\n",
    "\n",
    "B = np.einsum('...ij,...j', M1, A)\n",
    "\n",
    "axs.plot(A.T[0], A.T[1], linewidth=5, label=\"A\")\n",
    "axs.plot(B.T[0], B.T[1], linewidth=5, label=\"B\")\n",
    "\n",
    "axs.set_xlim(-10, 10)\n",
    "axs.set_ylim(-10, 10)\n",
    "axs.grid(True);\n",
    "axs.legend();\n",
    "axs.set_xticks(np.linspace(0,10,11));\n",
    "#axs.set_yticks(np.linspace(-10,10,11));"
   ]
  },
  {
   "cell_type": "code",
   "execution_count": 76,
   "metadata": {},
   "outputs": [
    {
     "data": {
      "text/plain": [
       "array([[3.e+03, 0.e+00, 1.e+00],\n",
       "       [0.e+00, 0.e+00, 1.e+00],\n",
       "       [0.e+00, 5.e+04, 1.e+00]])"
      ]
     },
     "execution_count": 76,
     "metadata": {},
     "output_type": "execute_result"
    }
   ],
   "source": [
    "A"
   ]
  },
  {
   "cell_type": "code",
   "execution_count": 77,
   "metadata": {},
   "outputs": [
    {
     "data": {
      "text/plain": [
       "array([[ 2.99999983e+03,  1.02101759e+00,  1.00000000e+00],\n",
       "       [ 0.00000000e+00,  0.00000000e+00,  1.00000000e+00],\n",
       "       [-1.70169599e+01,  4.99999971e+04,  1.00000000e+00]])"
      ]
     },
     "execution_count": 77,
     "metadata": {},
     "output_type": "execute_result"
    }
   ],
   "source": [
    "B"
   ]
  },
  {
   "cell_type": "code",
   "execution_count": 87,
   "metadata": {},
   "outputs": [
    {
     "data": {
      "text/plain": [
       "array([[2.00000e-04, 1.00010e+00, 0.00000e+00],\n",
       "       [0.00000e+00, 0.00000e+00, 0.00000e+00],\n",
       "       [1.66679e+01, 2.80000e-03, 0.00000e+00]])"
      ]
     },
     "execution_count": 87,
     "metadata": {},
     "output_type": "execute_result"
    }
   ],
   "source": [
    "np.abs(B-A).round(4)"
   ]
  },
  {
   "cell_type": "code",
   "execution_count": null,
   "metadata": {},
   "outputs": [],
   "source": []
  }
 ],
 "metadata": {
  "kernelspec": {
   "display_name": "Python 3",
   "language": "python",
   "name": "python3"
  },
  "language_info": {
   "codemirror_mode": {
    "name": "ipython",
    "version": 3
   },
   "file_extension": ".py",
   "mimetype": "text/x-python",
   "name": "python",
   "nbconvert_exporter": "python",
   "pygments_lexer": "ipython3",
   "version": "3.8.10"
  }
 },
 "nbformat": 4,
 "nbformat_minor": 4
}
